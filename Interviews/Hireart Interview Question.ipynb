{
 "cells": [
  {
   "cell_type": "code",
   "execution_count": 1,
   "metadata": {},
   "outputs": [],
   "source": [
    "import pandas as pd\n",
    "import seaborn as sns\n",
    "\n",
    "pinterest_data = pd.read_excel('HireArt - Data Analyst Exercise 10.12.17.xlsx')\n",
    "pinterest_data['month'] = pinterest_data['Date of Contact'].dt.month"
   ]
  },
  {
   "cell_type": "code",
   "execution_count": 13,
   "metadata": {},
   "outputs": [
    {
     "data": {
      "text/plain": [
       "Text(0.5,1,'Contact Month')"
      ]
     },
     "execution_count": 13,
     "metadata": {},
     "output_type": "execute_result"
    },
    {
     "data": {
      "image/png": "[encoded data removed]",
      "text/plain": [
       "<Figure size 432x288 with 1 Axes>"
      ]
     },
     "metadata": {
      "needs_background": "light"
     },
     "output_type": "display_data"
    }
   ],
   "source": [
    "# Quick response\n",
    "\n",
    "ax = sns.barplot(x = pinterest_data['month'].value_counts().index,\n",
    "           y = pinterest_data['month'].value_counts()/pinterest_data.shape[0])\n",
    "ax.set_title('Contact Month')"
   ]
  },
  {
   "cell_type": "code",
   "execution_count": 5,
   "metadata": {},
   "outputs": [
    {
     "data": {
      "text/plain": [
       "(1001, 4)"
      ]
     },
     "execution_count": 5,
     "metadata": {},
     "output_type": "execute_result"
    }
   ],
   "source": [
    "pinterest_data.shape"
   ]
  },
  {
   "cell_type": "code",
   "execution_count": 4,
   "metadata": {},
   "outputs": [
    {
     "data": {
      "text/html": [
       "<div>\n",
       "<style scoped>\n",
       "    .dataframe tbody tr th:only-of-type {\n",
       "        vertical-align: middle;\n",
       "    }\n",
       "\n",
       "    .dataframe tbody tr th {\n",
       "        vertical-align: top;\n",
       "    }\n",
       "\n",
       "    .dataframe thead th {\n",
       "        text-align: right;\n",
       "    }\n",
       "</style>\n",
       "<table border=\"1\" class=\"dataframe\">\n",
       "  <thead>\n",
       "    <tr style=\"text-align: right;\">\n",
       "      <th></th>\n",
       "      <th>Account manager</th>\n",
       "      <th>Client Name</th>\n",
       "      <th>Date of Contact</th>\n",
       "      <th>month</th>\n",
       "    </tr>\n",
       "  </thead>\n",
       "  <tbody>\n",
       "    <tr>\n",
       "      <th>0</th>\n",
       "      <td>Milan Crona</td>\n",
       "      <td>Wyman, Farrell and Haag</td>\n",
       "      <td>2015-10-31</td>\n",
       "      <td>10</td>\n",
       "    </tr>\n",
       "    <tr>\n",
       "      <th>1</th>\n",
       "      <td>Aidan Pouros</td>\n",
       "      <td>Veum, McClure and Schuster</td>\n",
       "      <td>2013-12-15</td>\n",
       "      <td>12</td>\n",
       "    </tr>\n",
       "    <tr>\n",
       "      <th>2</th>\n",
       "      <td>Aidan Pouros</td>\n",
       "      <td>Veum, McClure and Schuster</td>\n",
       "      <td>2013-12-07</td>\n",
       "      <td>12</td>\n",
       "    </tr>\n",
       "    <tr>\n",
       "      <th>3</th>\n",
       "      <td>Milan Crona</td>\n",
       "      <td>Armstrong Group</td>\n",
       "      <td>2013-11-02</td>\n",
       "      <td>11</td>\n",
       "    </tr>\n",
       "    <tr>\n",
       "      <th>4</th>\n",
       "      <td>Aidan Pouros</td>\n",
       "      <td>Lueilwitz, Moore and Hahn</td>\n",
       "      <td>2013-12-25</td>\n",
       "      <td>12</td>\n",
       "    </tr>\n",
       "  </tbody>\n",
       "</table>\n",
       "</div>"
      ],
      "text/plain": [
       "  Account manager                 Client Name Date of Contact  month\n",
       "0     Milan Crona     Wyman, Farrell and Haag      2015-10-31     10\n",
       "1    Aidan Pouros  Veum, McClure and Schuster      2013-12-15     12\n",
       "2    Aidan Pouros  Veum, McClure and Schuster      2013-12-07     12\n",
       "3     Milan Crona             Armstrong Group      2013-11-02     11\n",
       "4    Aidan Pouros   Lueilwitz, Moore and Hahn      2013-12-25     12"
      ]
     },
     "execution_count": 4,
     "metadata": {},
     "output_type": "execute_result"
    }
   ],
   "source": [
    "pinterest_data.head()"
   ]
  },
  {
   "cell_type": "code",
   "execution_count": 12,
   "metadata": {},
   "outputs": [
    {
     "data": {
      "text/plain": [
       "10    213\n",
       "9     121\n",
       "8      79\n",
       "12     77\n",
       "6      77\n",
       "5      69\n",
       "7      66\n",
       "11     65\n",
       "2      64\n",
       "1      60\n",
       "3      58\n",
       "4      52\n",
       "Name: month, dtype: int64"
      ]
     },
     "execution_count": 12,
     "metadata": {},
     "output_type": "execute_result"
    }
   ],
   "source": [
    "pinterest_data['month'].value_counts()"
   ]
  },
  {
   "cell_type": "code",
   "execution_count": 3,
   "metadata": {},
   "outputs": [
    {
     "data": {
      "text/html": [
       "<script type=\"text/javascript\">window.PlotlyConfig = {MathJaxConfig: 'local'};</script><script type=\"text/javascript\">if (window.MathJax) {MathJax.Hub.Config({SVG: {font: \"STIX-Web\"}});}</script><script>requirejs.config({paths: { 'plotly': ['https://cdn.plot.ly/plotly-latest.min']},});if(!window._Plotly) {require(['plotly'],function(plotly) {window._Plotly=plotly;});}</script>"
      ],
      "text/vnd.plotly.v1+html": [
       "<script type=\"text/javascript\">window.PlotlyConfig = {MathJaxConfig: 'local'};</script><script type=\"text/javascript\">if (window.MathJax) {MathJax.Hub.Config({SVG: {font: \"STIX-Web\"}});}</script><script>requirejs.config({paths: { 'plotly': ['https://cdn.plot.ly/plotly-latest.min']},});if(!window._Plotly) {require(['plotly'],function(plotly) {window._Plotly=plotly;});}</script>"
      ]
     },
     "metadata": {},
     "output_type": "display_data"
    },
    {
     "data": {
      "application/vnd.plotly.v1+json": {
       "data": [
        {
         "opacity": 0.7,
         "type": "bar",
         "uid": "9248538c-7b8f-4216-a9f0-b41cec5a0542",
         "x": [
          10,
          9,
          8,
          12,
          6,
          5,
          7,
          11,
          2,
          1,
          3,
          4
         ],
         "y": [
          0.2127872127872128,
          0.12087912087912088,
          0.07892107892107893,
          0.07692307692307693,
          0.07692307692307693,
          0.06893106893106893,
          0.06593406593406594,
          0.06493506493506493,
          0.06393606393606394,
          0.059940059940059943,
          0.057942057942057944,
          0.05194805194805195
         ]
        }
       ],
       "layout": {
        "title": "Contact Month",
        "yaxis": {
         "title": "Client contact %"
        }
       }
      },
      "text/html": [
       "<div id=\"1fd649c4-4cb4-4d30-b34c-584a5660be19\" style=\"height: 525px; width: 100%;\" class=\"plotly-graph-div\"></div><script type=\"text/javascript\">require([\"plotly\"], function(Plotly) { window.PLOTLYENV=window.PLOTLYENV || {};window.PLOTLYENV.BASE_URL=\"https://plot.ly\";Plotly.newPlot(\"1fd649c4-4cb4-4d30-b34c-584a5660be19\", [{\"opacity\": 0.7, \"x\": [10, 9, 8, 12, 6, 5, 7, 11, 2, 1, 3, 4], \"y\": [0.2127872127872128, 0.12087912087912088, 0.07892107892107893, 0.07692307692307693, 0.07692307692307693, 0.06893106893106893, 0.06593406593406594, 0.06493506493506493, 0.06393606393606394, 0.059940059940059943, 0.057942057942057944, 0.05194805194805195], \"type\": \"bar\", \"uid\": \"9248538c-7b8f-4216-a9f0-b41cec5a0542\"}], {\"title\": \"Contact Month\", \"yaxis\": {\"title\": \"Client contact %\"}}, {\"showLink\": true, \"linkText\": \"Export to plot.ly\"})});</script><script type=\"text/javascript\">window.addEventListener(\"resize\", function(){window._Plotly.Plots.resize(document.getElementById(\"1fd649c4-4cb4-4d30-b34c-584a5660be19\"));});</script>"
      ],
      "text/vnd.plotly.v1+html": [
       "<div id=\"1fd649c4-4cb4-4d30-b34c-584a5660be19\" style=\"height: 525px; width: 100%;\" class=\"plotly-graph-div\"></div><script type=\"text/javascript\">require([\"plotly\"], function(Plotly) { window.PLOTLYENV=window.PLOTLYENV || {};window.PLOTLYENV.BASE_URL=\"https://plot.ly\";Plotly.newPlot(\"1fd649c4-4cb4-4d30-b34c-584a5660be19\", [{\"opacity\": 0.7, \"x\": [10, 9, 8, 12, 6, 5, 7, 11, 2, 1, 3, 4], \"y\": [0.2127872127872128, 0.12087912087912088, 0.07892107892107893, 0.07692307692307693, 0.07692307692307693, 0.06893106893106893, 0.06593406593406594, 0.06493506493506493, 0.06393606393606394, 0.059940059940059943, 0.057942057942057944, 0.05194805194805195], \"type\": \"bar\", \"uid\": \"9248538c-7b8f-4216-a9f0-b41cec5a0542\"}], {\"title\": \"Contact Month\", \"yaxis\": {\"title\": \"Client contact %\"}}, {\"showLink\": true, \"linkText\": \"Export to plot.ly\"})});</script><script type=\"text/javascript\">window.addEventListener(\"resize\", function(){window._Plotly.Plots.resize(document.getElementById(\"1fd649c4-4cb4-4d30-b34c-584a5660be19\"));});</script>"
      ]
     },
     "metadata": {},
     "output_type": "display_data"
    }
   ],
   "source": [
    "# Quality response (You can hover over the bars to see the actual percentage)\n",
    "\n",
    "# Plotly packages\n",
    "import cufflinks as cf\n",
    "import ipywidgets as widgets\n",
    "import plotly as py\n",
    "import plotly.figure_factory as ff\n",
    "import plotly.graph_objs as go\n",
    "from plotly import tools\n",
    "from scipy import special\n",
    "py.offline.init_notebook_mode(connected=True)\n",
    "\n",
    "# The input is the number of negative tweets by reason\n",
    "data = [go.Bar(\n",
    "    x = pinterest_data['month'].value_counts().index,\n",
    "    y = pinterest_data['month'].value_counts()/pinterest_data.shape[0],\n",
    "    opacity = 0.7\n",
    ")]\n",
    "\n",
    "# Create the layout\n",
    "layout = go.Layout(\n",
    "    title = 'Contact Month',\n",
    "    yaxis = dict(title='Client contact %')\n",
    ")\n",
    "\n",
    "fig = go.Figure(data = data, layout = layout)\n",
    "py.offline.iplot(fig, filename='cufflinks/simple')"
   ]
  }
 ],
 "metadata": {
  "kernelspec": {
   "display_name": "Python 3",
   "language": "python",
   "name": "python3"
  },
  "language_info": {
   "codemirror_mode": {
    "name": "ipython",
    "version": 3
   },
   "file_extension": ".py",
   "mimetype": "text/x-python",
   "name": "python",
   "nbconvert_exporter": "python",
   "pygments_lexer": "ipython3",
   "version": "3.7.0"
  }
 },
 "nbformat": 4,
 "nbformat_minor": 2
}
