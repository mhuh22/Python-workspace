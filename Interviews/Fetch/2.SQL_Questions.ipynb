{
 "cells": [
  {
   "cell_type": "markdown",
   "id": "34bcf89a-fd91-4fa2-914d-233d18f8ccc7",
   "metadata": {},
   "source": [
    "### Second: provide SQL queries\n",
    "Answer three of the following questions with at least one question coming from the closed-ended and one from the open-ended question set. Each question should be answered using one query.\n",
    "Closed-ended questions:\n",
    "* What are the top 5 brands by receipts scanned among users 21 and over?\n",
    "    1. 'NERDS CANDY'\n",
    "    2. 'DOVE'\n",
    "    3. 'TRIDENT'\n",
    "    4. 'SOUR PATCH KIDS'\n",
    "    5. 'MEIJER'\n",
    "* What are the top 5 brands by sales among users that have had their account for at least six months?\n",
    "    1. 'CVS'\n",
    "    2. 'DOVE'\n",
    "    3. 'TRIDENT'\n",
    "    4. 'COORS LIGHT'\n",
    "    5. 'TRESEMMÉ'\n",
    "3. What is the percentage of sales in the Health & Wellness category by generation?\n",
    "    * 'Zoomers', 0.0\n",
    "    * 'Millenials', 19.43\n",
    "    * 'X',16.88\n",
    "    * 'Boomers', 27.66\n",
    "    * 'Silent', 0.0\n",
    "    * 'Other', 24.16 - missing birth_date\n",
    "\n",
    "Open-ended questions: for these, make assumptions and clearly state them when answering the question.\n",
    "1. Who are Fetch’s power users?\n",
    "2. Which is the leading brand in the Dips & Salsa category? - Tostitos*\n",
    "    * Long answer: The dataset here is incomplete, as the transactions are missing a substantial amount of barcodes. Based on the barcodes present, Tostitos is the leading brand by 3 metrics - number of sales, sum of sales in $, and number of receipts. This also lines up with public sales records, such as an older report from Statista, as well as personal biases when browsing this category in stores. https://www.statista.com/statistics/300313/us-leading-salsa-based-on-dollar-sales/#:~:text=Tostitos%20is%20the%20leading%20brand,owned%20and%20operated%20by%20PepsiCo.\n",
    "3. At what percent has Fetch grown year over year? - not enough data, only 4 months of 1 year is available\n",
    "\n",
    "### Importing packages and data into environment"
   ]
  },
  {
   "cell_type": "code",
   "execution_count": 3,
   "id": "e2fc13af-1e3b-426f-98c5-05ada148bc7c",
   "metadata": {},
   "outputs": [
    {
     "name": "stdout",
     "output_type": "stream",
     "text": [
      "Data from USER_TAKEHOME.csv imported into users\n",
      "Data from PRODUCTS_TAKEHOME.csv imported into products\n",
      "Data from transactions_updated.csv imported into transactions\n"
     ]
    }
   ],
   "source": [
    "import sqlite3\n",
    "import pandas as pd\n",
    "\n",
    "# Connect to SQLite (create the database file if it doesn't exist)\n",
    "conn = sqlite3.connect('local_db.db')\n",
    "cursor = conn.cursor()\n",
    "\n",
    "# List of CSV file paths and corresponding table names\n",
    "csv_files = [\n",
    "    ('USER_TAKEHOME.csv', 'users'),\n",
    "    ('PRODUCTS_TAKEHOME.csv', 'products'),\n",
    "    ('transactions_updated.csv', 'transactions')\n",
    "]\n",
    "\n",
    "# Function to create a table and import CSV data\n",
    "def import_csv_to_sql(csv_file, table_name):\n",
    "    # Read the CSV file into a pandas DataFrame\n",
    "    df = pd.read_csv(csv_file)\n",
    "    \n",
    "    # Create the SQL table if it doesn't exist, using the DataFrame columns as SQL columns\n",
    "    df.to_sql(table_name, conn, if_exists='replace', index=False)\n",
    "    print(f\"Data from {csv_file} imported into {table_name}\")\n",
    "\n",
    "# Loop through the list of CSV files and import each one\n",
    "for csv_file, table_name in csv_files:\n",
    "    import_csv_to_sql(csv_file, table_name)\n",
    "\n",
    "# Commit and close the connection\n",
    "conn.commit()\n",
    "conn.close()"
   ]
  },
  {
   "cell_type": "markdown",
   "id": "bccb62cb-cffd-498e-966c-6340ab8cc250",
   "metadata": {},
   "source": [
    "### What are the top 5 brands by receipts scanned among users 21 and over?\n",
    "1. 'NERDS CANDY'\n",
    "2. 'DOVE'\n",
    "3. 'TRIDENT'\n",
    "4. 'SOUR PATCH KIDS'\n",
    "5. 'MEIJER'"
   ]
  },
  {
   "cell_type": "code",
   "execution_count": 5,
   "id": "74209bce-0b71-4eaf-ae9a-126edd65a08c",
   "metadata": {},
   "outputs": [
    {
     "name": "stdout",
     "output_type": "stream",
     "text": [
      "('TRIDENT', 2)\n",
      "('SOUR PATCH KIDS', 2)\n",
      "('NERDS CANDY', 2)\n",
      "('DOVE', 2)\n",
      "('UTZ', 1)\n"
     ]
    }
   ],
   "source": [
    "# Reconnect to the database\n",
    "conn = sqlite3.connect('local_db.db')\n",
    "cursor = conn.cursor()\n",
    "\n",
    "# Query the data from a table\n",
    "query = \"\"\"\n",
    "select p.brand, \n",
    "       count(distinct(t.receipt_id)) as receipts\n",
    "from transactions t\n",
    "left join products p\n",
    "    on t.barcode = p.barcode\n",
    "where user_id in (\n",
    "    SELECT ID\n",
    "    FROM users \n",
    "    WHERE BIRTH_DATE < DATE('now','-21 years') \n",
    ")\n",
    "and brand <> 'None'  -- result depends on whether you want to include/exclude 'None'\n",
    "group by p.brand\n",
    "order by receipts desc\n",
    "limit 5\n",
    "\"\"\"\n",
    "cursor.execute(query)\n",
    "\n",
    "# Fetch and print the result\n",
    "result = cursor.fetchall()\n",
    "for row in result:\n",
    "    print(row)\n",
    "\n",
    "# Close the connection\n",
    "conn.close()"
   ]
  },
  {
   "cell_type": "markdown",
   "id": "4f473ba2-0884-43e9-a890-257f5dce7c1e",
   "metadata": {},
   "source": [
    "### 2. What are the top 5 brands by sales among users that have had their account for at least six months?\n",
    "    1. 'CVS'\n",
    "    2. 'DOVE'\n",
    "    3. 'TRIDENT'\n",
    "    4. 'COORS LIGHT'\n",
    "    5. 'TRESEMMÉ'"
   ]
  },
  {
   "cell_type": "code",
   "execution_count": 7,
   "id": "47ac61c0-1fb6-42c7-972b-2cd12d4424c6",
   "metadata": {},
   "outputs": [
    {
     "name": "stdout",
     "output_type": "stream",
     "text": [
      "('TRIDENT', 2, 23.36)\n",
      "('DOVE', 2, 18.94)\n",
      "('COORS LIGHT', 1, 17.48)\n",
      "('TRESEMMÉ', 1, 14.58)\n",
      "('PEPPERIDGE FARM', 1, 12.15)\n"
     ]
    }
   ],
   "source": [
    "# Reconnect to the database\n",
    "conn = sqlite3.connect('local_db.db')\n",
    "cursor = conn.cursor()\n",
    "\n",
    "# Query the data from a table\n",
    "query = \"\"\"\n",
    "select p.brand, count(distinct(t.receipt_id)), sum(final_sale)\n",
    "from transactions t\n",
    "left join products p\n",
    "    on t.barcode = p.barcode\n",
    "where user_id in (\n",
    "    SELECT ID\n",
    "    FROM users \n",
    "    WHERE CREATED_DATE < DATE('now','-6 months') \n",
    ")\n",
    "and brand <> 'None' --result depends on if you want to include / exclude 'None'\n",
    "group by 1\n",
    "order by 3 desc\n",
    "LIMIT 5\n",
    "\"\"\"\n",
    "cursor.execute(query)\n",
    "\n",
    "# Fetch and print the result\n",
    "result = cursor.fetchall()\n",
    "for row in result:\n",
    "    print(row)\n",
    "\n",
    "# Close the connection\n",
    "conn.close()"
   ]
  },
  {
   "cell_type": "markdown",
   "id": "fc163ed5-0850-44ef-a820-e2039fea1ec0",
   "metadata": {},
   "source": [
    "### 3. What is the percentage of sales in the Health & Wellness category by [age] generation?\n",
    "* 'Zoomers', 0.0\n",
    "* 'Millenials', 19.43\n",
    "* 'X',16.88\n",
    "* 'Boomers', 27.66\n",
    "* 'Silent', 0.0\n",
    "* 'Other', 24.16 - missing birth_date"
   ]
  },
  {
   "cell_type": "code",
   "execution_count": 9,
   "id": "a9c6c838-f767-43f3-a63e-35e26d7f16e8",
   "metadata": {},
   "outputs": [
    {
     "name": "stdout",
     "output_type": "stream",
     "text": [
      "('3.Silent', 0.0)\n",
      "('4.Boomers', 3.57)\n",
      "('5.X', 24.15)\n",
      "('6.Millenials', 17.47)\n",
      "('Other', 26.22)\n"
     ]
    }
   ],
   "source": [
    "# Reconnect to the database\n",
    "conn = sqlite3.connect('local_db.db')\n",
    "cursor = conn.cursor()\n",
    "\n",
    "# Query the data from a table\n",
    "query = \"\"\"\n",
    "select case when birth_date >= '2022-01-01' then '8.Alpha'\n",
    "    when birth_date >= '1997-01-01' then '7.Zoomers'\n",
    "    when birth_date >= '1981-01-01' then '6.Millenials'\n",
    "    when birth_date >= '1965-01-01' then '5.X'\n",
    "    when birth_date >= '1946-01-01' then '4.Boomers'\n",
    "    when birth_date >= '1928-01-01' then '3.Silent'\n",
    "    when birth_date >= '1901-01-01' then '2.Greatest'\n",
    "    when birth_date >= '1883-01-01' then '1.Lost'\n",
    "    else 'Other'\n",
    "    end as generation,\n",
    "--sum(case when category_1 = 'Health & Wellness' then final_sale else 0 end), \n",
    "--sum(final_sale),\n",
    "round(100.0*sum(case when category_1 = 'Health & Wellness' then final_sale else 0 end) / sum(final_sale),2) as health_perc\n",
    "from transactions t\n",
    "left join products p\n",
    "    on t.barcode = p.barcode\n",
    "left join users u\n",
    "    on u.id = t.user_id\n",
    "group by 1\n",
    "\"\"\"\n",
    "cursor.execute(query)\n",
    "\n",
    "# Fetch and print the result\n",
    "result = cursor.fetchall()\n",
    "for row in result:\n",
    "    print(row)\n",
    "\n",
    "# Close the connection\n",
    "conn.close()"
   ]
  },
  {
   "cell_type": "code",
   "execution_count": 10,
   "id": "8e8ef033-c308-487a-b020-a1d5c62f2c62",
   "metadata": {},
   "outputs": [
    {
     "name": "stdout",
     "output_type": "stream",
     "text": [
      "(13918.78, 53089.96, 26.2173)\n"
     ]
    }
   ],
   "source": [
    "# Confirming that 'Other' lines up with missing birth_dates\n",
    "\n",
    "# Reconnect to the database\n",
    "conn = sqlite3.connect('local_db.db')\n",
    "cursor = conn.cursor()\n",
    "\n",
    "# Query the data from a table\n",
    "query = \"\"\"\n",
    "select \n",
    "    sum(case when category_1 = 'Health & Wellness' then final_sale else 0 end), \n",
    "    sum(final_sale),\n",
    "    round(100.0*sum(case when category_1 = 'Health & Wellness' then final_sale else 0 end) / sum(final_sale),4) as health_perc\n",
    "from transactions t\n",
    "left join products p\n",
    "    on t.barcode = p.barcode\n",
    "left join users u\n",
    "    on u.id = t.user_id\n",
    "where birth_date is null\n",
    "\"\"\"\n",
    "cursor.execute(query)\n",
    "\n",
    "# Fetch and print the result\n",
    "result = cursor.fetchall()\n",
    "for row in result:\n",
    "    print(row)\n",
    "\n",
    "# Close the connection\n",
    "conn.close()"
   ]
  },
  {
   "cell_type": "markdown",
   "id": "2155fb7a-1c0e-49d8-b507-765ed4289134",
   "metadata": {},
   "source": [
    "### 2.2. Which is the leading brand in the Dips & Salsa category?\n",
    "Tostitos\n",
    "* Long answer: The dataset here is incomplete, as the transactions are missing a substantial amount of barcodes. Based on the barcodes present, Tostitos is the leading brand by 3 metrics - number of sales, sum of sales in $, and number of receipts. This also lines up with public sales records, such as an older report from Statista, as well as personal biases when browsing this category in stores. https://www.statista.com/statistics/300313/us-leading-salsa-based-on-dollar-sales/#:~:text=Tostitos%20is%20the%20leading%20brand,owned%20and%20operated%20by%20PepsiCo."
   ]
  },
  {
   "cell_type": "code",
   "execution_count": 12,
   "id": "a282f1ba-9964-49ab-87df-61822559d611",
   "metadata": {},
   "outputs": [
    {
     "name": "stdout",
     "output_type": "stream",
     "text": [
      "('TOSTITOS', 21, 22.0, 97.34)\n",
      "('PACE', 13, 13.0, 48.69)\n",
      "('GOOD FOODS', 5, 5.0, 46.95)\n",
      "('FRITOS', 12, 13.0, 43.55)\n",
      "(None, 8, 8.0, 43.16)\n",
      "('MARKETSIDE', 8, 8.0, 35.7)\n",
      "('MARZETTI', 7, 7.0, 32.05)\n",
      "('HELUVA GOOD!', 7, 7.0, 25.26)\n",
      "('KIRKLAND SIGNATURE', 2, 2.0, 23.48)\n",
      "('HIDDEN VALLEY', 6, 12.0, 23.14)\n"
     ]
    }
   ],
   "source": [
    "# View leading brands by number of sales from customer receipts in our data\n",
    "\n",
    "# Reconnect to the database\n",
    "conn = sqlite3.connect('local_db.db')\n",
    "cursor = conn.cursor()\n",
    "\n",
    "# Query the data from a table\n",
    "query = \"\"\"\n",
    "select \n",
    "brand, count(distinct(receipt_id)), sum(final_quantity), round(sum(final_sale),2)\n",
    "from transactions t\n",
    "left join products p\n",
    "    on t.barcode = p.barcode\n",
    "where category_2 = 'Dips & Salsa'\n",
    "group by 1\n",
    "order by 4 desc\n",
    "limit 10\n",
    "\"\"\"\n",
    "cursor.execute(query)\n",
    "\n",
    "# Fetch and print the result\n",
    "result = cursor.fetchall()\n",
    "for row in result:\n",
    "    print(row)\n",
    "\n",
    "# Close the connection\n",
    "conn.close()"
   ]
  },
  {
   "cell_type": "code",
   "execution_count": 13,
   "id": "40e046fd-b607-40cc-86fe-32f9ada5c017",
   "metadata": {},
   "outputs": [
    {
     "name": "stdout",
     "output_type": "stream",
     "text": [
      "(None, 6329)\n",
      "('PRIVATE LABEL', 1166)\n",
      "('SABRA', 268)\n",
      "('WHOLLY', 217)\n",
      "('TOSTITOS', 149)\n",
      "('PACE', 119)\n",
      "('GOOD FOODS', 115)\n",
      "('MEIJER', 112)\n",
      "('MARZETTI', 109)\n",
      "('BRAND NOT KNOWN', 108)\n"
     ]
    }
   ],
   "source": [
    "# View number of products in dataset\n",
    "\n",
    "# Reconnect to the database\n",
    "conn = sqlite3.connect('local_db.db')\n",
    "cursor = conn.cursor()\n",
    "\n",
    "# Query the data from a table\n",
    "query = \"\"\"\n",
    "select brand, count(1)\n",
    "from products p\n",
    "where category_2 = 'Dips & Salsa'\n",
    "group by 1\n",
    "order by 2 desc\n",
    "limit 10\n",
    "\"\"\"\n",
    "cursor.execute(query)\n",
    "\n",
    "# Fetch and print the result\n",
    "result = cursor.fetchall()\n",
    "for row in result:\n",
    "    print(row)\n",
    "\n",
    "# Close the connection\n",
    "conn.close()"
   ]
  },
  {
   "cell_type": "markdown",
   "id": "4e6fb1dd-78d4-4cf2-9287-1f0b2a2c8185",
   "metadata": {},
   "source": [
    "### Miscellaneous tests"
   ]
  },
  {
   "cell_type": "code",
   "execution_count": 15,
   "id": "e81ada76-70fa-4226-aa94-b8462099821b",
   "metadata": {},
   "outputs": [
    {
     "name": "stdout",
     "output_type": "stream",
     "text": [
      "(10143, 10190)\n"
     ]
    }
   ],
   "source": [
    "# Missing user data - check to confirm that most user_ids are missing from user table when joining\n",
    "\n",
    "# Reconnect to the database\n",
    "conn = sqlite3.connect('local_db.db')\n",
    "cursor = conn.cursor()\n",
    "\n",
    "# Query the data from a table\n",
    "query = \"\"\"\n",
    "select \n",
    "count(distinct(case when u.id is null then user_id end)) as missing_userid,\n",
    "count(distinct(user_id)) as total_users\n",
    "from transactions t\n",
    "left join users u\n",
    "    on u.id = t.user_id\n",
    "limit 100\n",
    "\"\"\"\n",
    "cursor.execute(query)\n",
    "\n",
    "# Fetch and print the result\n",
    "result = cursor.fetchall()\n",
    "for row in result:\n",
    "    print(row)\n",
    "\n",
    "# Close the connection\n",
    "conn.close()"
   ]
  },
  {
   "cell_type": "code",
   "execution_count": 16,
   "id": "a2e422a6-049b-436a-ad27-00bc3d134e41",
   "metadata": {},
   "outputs": [
    {
     "name": "stdout",
     "output_type": "stream",
     "text": [
      "('1943-09-03 05:00:00.000 Z', '1996-05-20 00:00:00.000 Z')\n"
     ]
    }
   ],
   "source": [
    "# Missing user data - check to confirm that most user_ids are missing from user table when joining\n",
    "\n",
    "# Reconnect to the database\n",
    "conn = sqlite3.connect('local_db.db')\n",
    "cursor = conn.cursor()\n",
    "\n",
    "# Query the data from a table\n",
    "query = \"\"\"\n",
    "select \n",
    "min(birth_date), max(birth_date)\n",
    "from transactions t\n",
    "left join users u\n",
    "    on t.user_id = u.id\n",
    "\"\"\"\n",
    "cursor.execute(query)\n",
    "\n",
    "# Fetch and print the result\n",
    "result = cursor.fetchall()\n",
    "for row in result:\n",
    "    print(row)\n",
    "\n",
    "# Close the connection\n",
    "conn.close()"
   ]
  },
  {
   "cell_type": "markdown",
   "id": "cd755305-cbc9-4e8c-81b8-9ee3255696fc",
   "metadata": {},
   "source": [
    "### Exploration\n",
    "These queries are irrelevant to the questions asked, but are for personal exploration, and identifying trends in the data."
   ]
  },
  {
   "cell_type": "code",
   "execution_count": 18,
   "id": "7ff4a801-8793-4ea9-8c20-f1e0b1be13ed",
   "metadata": {},
   "outputs": [
    {
     "name": "stdout",
     "output_type": "stream",
     "text": [
      "('WALMART', 5176, 5585.99, 20777.59, 38.93)\n",
      "('COSTCO', 255, 243.0, 3261.19, 6.11)\n",
      "('TARGET', 385, 434.0, 2549.11, 4.78)\n",
      "(\"SAM'S CLUB\", 234, 226.0, 2484.94, 4.66)\n",
      "('DOLLAR GENERAL STORE', 674, 736.0, 2226.76, 4.17)\n",
      "('WALGREENS', 259, 281.0, 1994.33, 3.74)\n",
      "('CVS', 308, 244.0, 1298.07, 2.43)\n",
      "('MEIJER', 292, 363.22, 1287.58, 2.41)\n",
      "('KROGER', 359, 349.0, 1205.38, 2.26)\n",
      "('AMAZON', 77, 90.0, 1099.34, 2.06)\n",
      "('Snacks', 326277, 3961.86, 15242.6, 28.56)\n",
      "('Health & Wellness', 512971, 1785.0, 13960.05, 26.16)\n",
      "('Beverages', 4284, 508.0, 2363.11, 4.43)\n",
      "(None, 290, 195.47, 866.21, 1.62)\n",
      "('Alcohol', 509, 27.0, 365.0, 0.68)\n",
      "('Pantry', 891, 62.17, 247.02, 0.46)\n",
      "('Dairy', 619, 49.0, 167.84, 0.31)\n",
      "('Deli & Bakery', 71, 9.0, 53.95, 0.1)\n",
      "('Frozen', 62, 4.0, 25.0, 0.05)\n",
      "('Needs Review', 547, 2.0, 1.45, 0.0)\n"
     ]
    }
   ],
   "source": [
    "# Check most popular stores\n",
    "\n",
    "# Reconnect to the database\n",
    "conn = sqlite3.connect('local_db.db')\n",
    "cursor = conn.cursor()\n",
    "\n",
    "# Query the data from a table\n",
    "query = \"\"\"\n",
    "select store_name, count(distinct(receipt_id)), sum(final_quantity), sum(final_sale),\n",
    "round(100.0*round(sum(final_sale),2) / (select sum(final_sale) from transactions),2) as perc_of_sales\n",
    "from transactions\n",
    "group by 1\n",
    "order by 4 desc\n",
    "limit 10\n",
    "\"\"\"\n",
    "cursor.execute(query)\n",
    "\n",
    "# Fetch and print the result\n",
    "result = cursor.fetchall()\n",
    "for row in result:\n",
    "    print(row)\n",
    "\n",
    "# Close the connection\n",
    "conn.close()\n",
    "\n",
    "# Check most popular stores\n",
    "\n",
    "# Reconnect to the database\n",
    "conn = sqlite3.connect('local_db.db')\n",
    "cursor = conn.cursor()\n",
    "\n",
    "# Query the data from a table\n",
    "query = \"\"\"\n",
    "select category_1, count(1), sum(final_quantity), round(sum(final_sale),2),\n",
    "round(100.0*round(sum(final_sale),2) / (select sum(final_sale) from transactions),2) as perc_of_sales\n",
    "from products p\n",
    "left join transactions t\n",
    "    on p.barcode = t.barcode\n",
    "group by 1\n",
    "order by 4 desc\n",
    "limit 10\n",
    "\"\"\"\n",
    "cursor.execute(query)\n",
    "\n",
    "# Fetch and print the result\n",
    "result = cursor.fetchall()\n",
    "for row in result:\n",
    "    print(row)\n",
    "\n",
    "# Close the connection\n",
    "conn.close()"
   ]
  },
  {
   "cell_type": "code",
   "execution_count": 19,
   "id": "6994ef4c-97b7-4d54-ba57-2fe5b1fa367c",
   "metadata": {},
   "outputs": [
    {
     "name": "stdout",
     "output_type": "stream",
     "text": [
      "(None, 60899, 692.16, 3512.76)\n",
      "('Cola', 2794, 443.0, 2201.66)\n",
      "('Chocolate Candy', 47956, 570.0, 1702.94)\n",
      "('Vitamins & Herbal Supplements', 55708, 117.0, 1560.39)\n",
      "('Confection Candy', 57074, 382.55, 1071.98)\n",
      "('Potato Chips', 11336, 301.0, 1037.95)\n",
      "('Tortilla Chips', 4049, 203.0, 784.06)\n",
      "('Body Wash', 15092, 94.0, 746.7)\n",
      "('Allergy & Sinus Medicines & Treatments', 5798, 47.0, 696.16)\n",
      "('Digestive Health Medicines & Treatments', 9603, 71.0, 574.34)\n"
     ]
    }
   ],
   "source": [
    "# Check most popular stores\n",
    "\n",
    "# Reconnect to the database\n",
    "conn = sqlite3.connect('local_db.db')\n",
    "cursor = conn.cursor()\n",
    "\n",
    "# Query the data from a table\n",
    "query = \"\"\"\n",
    "select category_3, count(1), sum(final_quantity), round(sum(final_sale),2)\n",
    "from products p\n",
    "left join transactions t\n",
    "    on p.barcode = t.barcode\n",
    "group by 1\n",
    "order by 4 desc\n",
    "limit 10\n",
    "\"\"\"\n",
    "cursor.execute(query)\n",
    "\n",
    "# Fetch and print the result\n",
    "result = cursor.fetchall()\n",
    "for row in result:\n",
    "    print(row)\n",
    "\n",
    "# Close the connection\n",
    "conn.close()"
   ]
  },
  {
   "cell_type": "code",
   "execution_count": 20,
   "id": "2f18a2a2-a027-4be0-ae38-955b22350ecf",
   "metadata": {},
   "outputs": [
    {
     "name": "stdout",
     "output_type": "stream",
     "text": [
      "(10143, 99953, 10190, 100000)\n"
     ]
    }
   ],
   "source": [
    "# Missing user data - check to confirm that most user_ids are missing from user table when joining\n",
    "# transactions contains 17,694 ids, users contains 100,000, only 91 show up in both\n",
    "\n",
    "# Reconnect to the database\n",
    "conn = sqlite3.connect('local_db.db')\n",
    "cursor = conn.cursor()\n",
    "\n",
    "# Query the data from a table\n",
    "query = \"\"\"\n",
    "SELECT\n",
    "    -- Count distinct user_id not in users table\n",
    "    (SELECT COUNT(DISTINCT t.user_id)\n",
    "     FROM transactions t\n",
    "     LEFT JOIN users u ON t.user_id = u.id\n",
    "     WHERE u.id IS NULL) AS t_notin_u,\n",
    "\n",
    "    -- Count distinct id not in transactions table\n",
    "    (SELECT COUNT(DISTINCT u.id)\n",
    "     FROM users u\n",
    "     LEFT JOIN transactions t ON u.id = t.user_id\n",
    "     WHERE t.user_id IS NULL) AS u_notin_t,\n",
    "\n",
    "    -- Count distinct user_id in transactions table\n",
    "    (SELECT COUNT(DISTINCT user_id)\n",
    "     FROM transactions) AS trxn_ids,\n",
    "\n",
    "    -- Count distinct id in users table\n",
    "    (SELECT COUNT(DISTINCT id)\n",
    "     FROM users) AS u_ids\n",
    "\"\"\"\n",
    "cursor.execute(query)\n",
    "\n",
    "# Fetch and print the result\n",
    "result = cursor.fetchall()\n",
    "for row in result:\n",
    "    print(row)\n",
    "\n",
    "# Close the connection\n",
    "conn.close()"
   ]
  }
 ],
 "metadata": {
  "kernelspec": {
   "display_name": "Python 3 (ipykernel)",
   "language": "python",
   "name": "python3"
  },
  "language_info": {
   "codemirror_mode": {
    "name": "ipython",
    "version": 3
   },
   "file_extension": ".py",
   "mimetype": "text/x-python",
   "name": "python",
   "nbconvert_exporter": "python",
   "pygments_lexer": "ipython3",
   "version": "3.12.7"
  }
 },
 "nbformat": 4,
 "nbformat_minor": 5
}
