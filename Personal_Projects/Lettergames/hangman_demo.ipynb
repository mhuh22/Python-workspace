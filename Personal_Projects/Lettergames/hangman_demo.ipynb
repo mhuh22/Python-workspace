{
 "cells": [
  {
   "cell_type": "code",
   "execution_count": 1,
   "id": "a98ba655-4eb7-4ac1-a260-0822231c5e48",
   "metadata": {},
   "outputs": [
    {
     "name": "stdout",
     "output_type": "stream",
     "text": [
      "Guess the word! HINT: word is a name of a fruit\n",
      "_ _ _ _ _ _ _ _ _ _ \n",
      "\n"
     ]
    },
    {
     "name": "stdin",
     "output_type": "stream",
     "text": [
      "Enter a letter to guess:  g\n"
     ]
    },
    {
     "name": "stdout",
     "output_type": "stream",
     "text": [
      "_ _ _ _ _ _ _ _ _ _ \n"
     ]
    },
    {
     "name": "stdin",
     "output_type": "stream",
     "text": [
      "Enter a letter to guess:  p\n"
     ]
    },
    {
     "name": "stdout",
     "output_type": "stream",
     "text": [
      "_ _ _ _ _ _ _ _ _ _ \n"
     ]
    },
    {
     "name": "stdin",
     "output_type": "stream",
     "text": [
      "Enter a letter to guess:  w\n"
     ]
    },
    {
     "name": "stdout",
     "output_type": "stream",
     "text": [
      "w _ _ _ _ _ _ _ _ _ \n"
     ]
    },
    {
     "name": "stdin",
     "output_type": "stream",
     "text": [
      "Enter a letter to guess:  watermelon\n"
     ]
    },
    {
     "name": "stdout",
     "output_type": "stream",
     "text": [
      "Enter only a SINGLE letter\n",
      "\n"
     ]
    },
    {
     "name": "stdin",
     "output_type": "stream",
     "text": [
      "Enter a letter to guess:  m\n"
     ]
    },
    {
     "name": "stdout",
     "output_type": "stream",
     "text": [
      "w _ _ _ _ m _ _ _ _ \n"
     ]
    },
    {
     "name": "stdin",
     "output_type": "stream",
     "text": [
      "Enter a letter to guess:  e\n"
     ]
    },
    {
     "name": "stdout",
     "output_type": "stream",
     "text": [
      "w _ _ e _ m e _ _ _ \n"
     ]
    },
    {
     "name": "stdin",
     "output_type": "stream",
     "text": [
      "Enter a letter to guess:  l\n"
     ]
    },
    {
     "name": "stdout",
     "output_type": "stream",
     "text": [
      "w _ _ e _ m e l _ _ \n"
     ]
    },
    {
     "name": "stdin",
     "output_type": "stream",
     "text": [
      "Enter a letter to guess:  o\n"
     ]
    },
    {
     "name": "stdout",
     "output_type": "stream",
     "text": [
      "w _ _ e _ m e l o _ \n"
     ]
    },
    {
     "name": "stdin",
     "output_type": "stream",
     "text": [
      "Enter a letter to guess:  n\n"
     ]
    },
    {
     "name": "stdout",
     "output_type": "stream",
     "text": [
      "w _ _ e _ m e l o n \n"
     ]
    },
    {
     "name": "stdin",
     "output_type": "stream",
     "text": [
      "Enter a letter to guess:  a\n"
     ]
    },
    {
     "name": "stdout",
     "output_type": "stream",
     "text": [
      "w a _ e _ m e l o n \n"
     ]
    },
    {
     "name": "stdin",
     "output_type": "stream",
     "text": [
      "Enter a letter to guess:  w\n"
     ]
    },
    {
     "name": "stdout",
     "output_type": "stream",
     "text": [
      "You have already guessed that letter\n",
      "\n"
     ]
    },
    {
     "name": "stdin",
     "output_type": "stream",
     "text": [
      "Enter a letter to guess:  t\n"
     ]
    },
    {
     "name": "stdout",
     "output_type": "stream",
     "text": [
      "w a t e _ m e l o n \n",
      "You lost! Try again..\n",
      "The word was watermelon\n"
     ]
    }
   ],
   "source": [
    "# Python Program to illustrate - example pulled from https://www.geeksforgeeks.org/python/hangman-game-python/\n",
    "# Hangman Game\n",
    "import random\n",
    "from collections import Counter\n",
    "\n",
    "someWords = '''apple banana mango strawberry \n",
    "orange grape pineapple apricot lemon coconut watermelon \n",
    "cherry papaya berry peach lychee muskmelon'''\n",
    "\n",
    "someWords = someWords.split(' ')\n",
    "# randomly choose a secret word from our \"someWords\" LIST.\n",
    "word = random.choice(someWords)\n",
    "\n",
    "if __name__ == '__main__':\n",
    "    print('Guess the word! HINT: word is a name of a fruit')\n",
    "\n",
    "    for i in word:\n",
    "        # For printing the empty spaces for letters of the word\n",
    "        print('_', end=' ')\n",
    "    print()\n",
    "\n",
    "    playing = True\n",
    "    # List for storing the letters guessed by the player\n",
    "    letterGuessed = ''\n",
    "    chances = len(word) + 2\n",
    "    correct = 0\n",
    "    flag = 0\n",
    "    try:\n",
    "        while (chances != 0) and flag == 0:  # Flag is updated when the word is correctly guessed\n",
    "            print()\n",
    "            chances -= 1\n",
    "\n",
    "            try:\n",
    "                guess = str(input('Enter a letter to guess: '))\n",
    "            except:\n",
    "                print('Enter only a letter!')\n",
    "                continue\n",
    "\n",
    "            # Validation of the guess\n",
    "            if not guess.isalpha():\n",
    "                print('Enter only a LETTER')\n",
    "                continue\n",
    "            elif len(guess) > 1:\n",
    "                print('Enter only a SINGLE letter')\n",
    "                continue\n",
    "            elif guess in letterGuessed:\n",
    "                print('You have already guessed that letter')\n",
    "                continue\n",
    "\n",
    "            # If letter is guessed correctly\n",
    "            if guess in word:\n",
    "                # k stores the number of times the guessed letter occurs in the word\n",
    "                k = word.count(guess)\n",
    "                for _ in range(k):\n",
    "                    letterGuessed += guess  # The guessed letter is added as many times as it occurs\n",
    "\n",
    "            # Print the word\n",
    "            for char in word:\n",
    "                if char in letterGuessed and (Counter(letterGuessed) != Counter(word)):\n",
    "                    print(char, end=' ')\n",
    "                    correct += 1\n",
    "                # If user has guessed all the letters\n",
    "                # Once the correct word is guessed fully,\n",
    "                elif (Counter(letterGuessed) == Counter(word)):\n",
    "                    # the game ends, even if chances remain\n",
    "                    print(\"The word is: \", end=' ')\n",
    "                    print(word)\n",
    "                    flag = 1\n",
    "                    print('Congratulations, You won!')\n",
    "                    break  # To break out of the for loop\n",
    "                    break  # To break out of the while loop\n",
    "                else:\n",
    "                    print('_', end=' ')\n",
    "\n",
    "        # If user has used all of his chances\n",
    "        if chances <= 0 and (Counter(letterGuessed) != Counter(word)):\n",
    "            print()\n",
    "            print('You lost! Try again..')\n",
    "            print('The word was {}'.format(word))\n",
    "\n",
    "    except KeyboardInterrupt:\n",
    "        print()\n",
    "        print('Bye! Try again.')\n",
    "        exit()"
   ]
  },
  {
   "cell_type": "code",
   "execution_count": null,
   "id": "7aee13ce-38d4-4225-af13-de712ea0b48a",
   "metadata": {},
   "outputs": [],
   "source": []
  }
 ],
 "metadata": {
  "kernelspec": {
   "display_name": "Python 3 (ipykernel)",
   "language": "python",
   "name": "python3"
  },
  "language_info": {
   "codemirror_mode": {
    "name": "ipython",
    "version": 3
   },
   "file_extension": ".py",
   "mimetype": "text/x-python",
   "name": "python",
   "nbconvert_exporter": "python",
   "pygments_lexer": "ipython3",
   "version": "3.12.7"
  }
 },
 "nbformat": 4,
 "nbformat_minor": 5
}
